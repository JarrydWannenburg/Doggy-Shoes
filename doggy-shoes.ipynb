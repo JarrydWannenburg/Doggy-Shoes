{
 "cells": [
  {
   "cell_type": "markdown",
   "id": "3d62d578",
   "metadata": {},
   "source": [
    "# Doggy Shoe Size\n",
    "## A simple ML model using OLS\n",
    "\n",
    "In this scenario, you own a shop that sells harnesses for avalanche-rescue dogs, and you’ve recently expanded to also sell doggy boots. Customers all seem to pick the correct harness sizes but are constantly ordering doggy boots that are the wrong size. You know most customers buy harnesses and boots in the same transaction, which gives you an idea: perhaps you could approximate which doggy boots are the correct size, depending on the harness chosen. Then, you could warn customers if the boots they have selected are likely to be the correct size before they make the purchase.\n",
    "\n",
    "Original Case: https://docs.microsoft.com/en-us/learn/modules/introduction-to-machine-learning/"
   ]
  },
  {
   "cell_type": "code",
   "execution_count": 1,
   "id": "48019d9a",
   "metadata": {},
   "outputs": [],
   "source": [
    "# Load libraries\n",
    "import pandas as pd\n",
    "import statsmodels.formula.api as smf\n",
    "import altair as alt\n",
    "import joblib"
   ]
  },
  {
   "cell_type": "code",
   "execution_count": 2,
   "id": "8eff2ffb",
   "metadata": {
    "scrolled": true
   },
   "outputs": [
    {
     "data": {
      "text/html": [
       "<div>\n",
       "<style scoped>\n",
       "    .dataframe tbody tr th:only-of-type {\n",
       "        vertical-align: middle;\n",
       "    }\n",
       "\n",
       "    .dataframe tbody tr th {\n",
       "        vertical-align: top;\n",
       "    }\n",
       "\n",
       "    .dataframe thead th {\n",
       "        text-align: right;\n",
       "    }\n",
       "</style>\n",
       "<table border=\"1\" class=\"dataframe\">\n",
       "  <thead>\n",
       "    <tr style=\"text-align: right;\">\n",
       "      <th></th>\n",
       "      <th>boot_size</th>\n",
       "      <th>harness_size</th>\n",
       "    </tr>\n",
       "  </thead>\n",
       "  <tbody>\n",
       "    <tr>\n",
       "      <th>0</th>\n",
       "      <td>39</td>\n",
       "      <td>58</td>\n",
       "    </tr>\n",
       "  </tbody>\n",
       "</table>\n",
       "</div>"
      ],
      "text/plain": [
       "   boot_size  harness_size\n",
       "0         39            58"
      ]
     },
     "execution_count": 2,
     "metadata": {},
     "output_type": "execute_result"
    }
   ],
   "source": [
    "# Load data\n",
    "data = {\n",
    "    'boot_size' : [ 39, 38, 37, 39, 38, 35, 37, 36, 35, 40, \n",
    "                    40, 36, 38, 39, 42, 42, 36, 36, 35, 41, \n",
    "                    42, 38, 37, 35, 40, 36, 35, 39, 41, 37, \n",
    "                    35, 41, 39, 41, 42, 42, 36, 37, 37, 39,\n",
    "                    42, 35, 36, 41, 41, 41, 39, 39, 35, 39\n",
    " ],\n",
    "    'harness_size': [ 58, 58, 52, 58, 57, 52, 55, 53, 49, 54,\n",
    "                59, 56, 53, 58, 57, 58, 56, 51, 50, 59,\n",
    "                59, 59, 55, 50, 55, 52, 53, 54, 61, 56,\n",
    "                55, 60, 57, 56, 61, 58, 53, 57, 57, 55,\n",
    "                60, 51, 52, 56, 55, 57, 58, 57, 51, 59\n",
    "                ]\n",
    "}\n",
    "df = pd.DataFrame(data)\n",
    "df.head(1)"
   ]
  },
  {
   "cell_type": "markdown",
   "id": "9538229b",
   "metadata": {},
   "source": [
    "## Creating the model"
   ]
  },
  {
   "cell_type": "code",
   "execution_count": 3,
   "id": "2e827066",
   "metadata": {},
   "outputs": [],
   "source": [
    "# Create a simple OLS model\n",
    "ols_model = smf.ols('boot_size ~ harness_size', df)\n",
    "\n",
    "# Train the model to calculate the OLS line of fit\n",
    "ols_fitted_model = ols_model.fit()"
   ]
  },
  {
   "cell_type": "code",
   "execution_count": 4,
   "id": "fe6db64f",
   "metadata": {},
   "outputs": [],
   "source": [
    "def ols_scatter(df, x, y):\n",
    "    # scatter-plot data\n",
    "    ax = df.plot(x=x, y=y, kind='scatter')\n",
    "    x = df[x]\n",
    "\n",
    "    # plot regression line on the same axes, set x-axis limits\n",
    "    plot = ax.plot(x, ols_fitted_model.params[1] * x + ols_fitted_model.params[0]) #b1*x + b0\n",
    "    return(plot)"
   ]
  },
  {
   "cell_type": "code",
   "execution_count": 5,
   "id": "294024ab",
   "metadata": {
    "scrolled": true
   },
   "outputs": [
    {
     "data": {
      "text/plain": [
       "[<matplotlib.lines.Line2D at 0x173951333d0>]"
      ]
     },
     "execution_count": 5,
     "metadata": {},
     "output_type": "execute_result"
    },
    {
     "data": {
      "image/png": "[encoded data removed]",
      "text/plain": [
       "<Figure size 432x288 with 1 Axes>"
      ]
     },
     "metadata": {
      "needs_background": "light"
     },
     "output_type": "display_data"
    }
   ],
   "source": [
    "ols_scatter(df, 'harness_size', 'boot_size')"
   ]
  },
  {
   "cell_type": "code",
   "execution_count": 6,
   "id": "90ad7214",
   "metadata": {
    "scrolled": true
   },
   "outputs": [
    {
     "data": {
      "text/plain": [
       "0    35.015381\n",
       "1    37.945008\n",
       "dtype: float64"
      ]
     },
     "execution_count": 6,
     "metadata": {},
     "output_type": "execute_result"
    }
   ],
   "source": [
    "# Use the fitted OLS model to calculate the predicted shoe size based off harness size\n",
    "# Notice how harness size of 50 is almost exactly 35 like the data point (since OLS line coincidentally passes through it)\n",
    "ols_fitted_model.predict({'harness_size': [50, 55]}) "
   ]
  },
  {
   "cell_type": "markdown",
   "id": "48257e74",
   "metadata": {},
   "source": [
    "Now that a simple model has been created, we can begin building the model up and making it more complex. A good place to start is obtaining more data"
   ]
  },
  {
   "cell_type": "markdown",
   "id": "ed77b007",
   "metadata": {},
   "source": [
    "## Adding complexity"
   ]
  },
  {
   "cell_type": "code",
   "execution_count": 7,
   "id": "57bc74d9",
   "metadata": {},
   "outputs": [
    {
     "name": "stdout",
     "output_type": "stream",
     "text": [
      "(50, 4)\n"
     ]
    },
    {
     "data": {
      "text/html": [
       "<div>\n",
       "<style scoped>\n",
       "    .dataframe tbody tr th:only-of-type {\n",
       "        vertical-align: middle;\n",
       "    }\n",
       "\n",
       "    .dataframe tbody tr th {\n",
       "        vertical-align: top;\n",
       "    }\n",
       "\n",
       "    .dataframe thead th {\n",
       "        text-align: right;\n",
       "    }\n",
       "</style>\n",
       "<table border=\"1\" class=\"dataframe\">\n",
       "  <thead>\n",
       "    <tr style=\"text-align: right;\">\n",
       "      <th></th>\n",
       "      <th>boot_size</th>\n",
       "      <th>harness_size</th>\n",
       "      <th>sex</th>\n",
       "      <th>age_years</th>\n",
       "    </tr>\n",
       "  </thead>\n",
       "  <tbody>\n",
       "    <tr>\n",
       "      <th>0</th>\n",
       "      <td>39</td>\n",
       "      <td>58</td>\n",
       "      <td>male</td>\n",
       "      <td>12.0</td>\n",
       "    </tr>\n",
       "    <tr>\n",
       "      <th>1</th>\n",
       "      <td>38</td>\n",
       "      <td>58</td>\n",
       "      <td>male</td>\n",
       "      <td>9.6</td>\n",
       "    </tr>\n",
       "    <tr>\n",
       "      <th>2</th>\n",
       "      <td>37</td>\n",
       "      <td>52</td>\n",
       "      <td>female</td>\n",
       "      <td>8.6</td>\n",
       "    </tr>\n",
       "    <tr>\n",
       "      <th>3</th>\n",
       "      <td>39</td>\n",
       "      <td>58</td>\n",
       "      <td>male</td>\n",
       "      <td>10.2</td>\n",
       "    </tr>\n",
       "    <tr>\n",
       "      <th>4</th>\n",
       "      <td>38</td>\n",
       "      <td>57</td>\n",
       "      <td>male</td>\n",
       "      <td>7.8</td>\n",
       "    </tr>\n",
       "    <tr>\n",
       "      <th>5</th>\n",
       "      <td>35</td>\n",
       "      <td>52</td>\n",
       "      <td>female</td>\n",
       "      <td>4.4</td>\n",
       "    </tr>\n",
       "  </tbody>\n",
       "</table>\n",
       "</div>"
      ],
      "text/plain": [
       "   boot_size  harness_size     sex  age_years\n",
       "0         39            58    male       12.0\n",
       "1         38            58    male        9.6\n",
       "2         37            52  female        8.6\n",
       "3         39            58    male       10.2\n",
       "4         38            57    male        7.8\n",
       "5         35            52  female        4.4"
      ]
     },
     "execution_count": 7,
     "metadata": {},
     "output_type": "execute_result"
    }
   ],
   "source": [
    "# Read the data in via url\n",
    "df = pd.read_csv('https://raw.githubusercontent.com/MicrosoftDocs/mslearn-introduction-to-machine-learning/main/Data/doggy-boot-harness.csv')\n",
    "\n",
    "# Summary data\n",
    "print(df.shape)\n",
    "df.head(6)"
   ]
  },
  {
   "cell_type": "code",
   "execution_count": 8,
   "id": "041eebca",
   "metadata": {},
   "outputs": [],
   "source": [
    "# Create an OLS model\n",
    "ols_model = smf.ols('boot_size ~ harness_size + age_years + sex', df)\n",
    "\n",
    "# Calculate trendline\n",
    "ols_fitted_model = ols_model.fit()"
   ]
  },
  {
   "cell_type": "code",
   "execution_count": 9,
   "id": "230c064c",
   "metadata": {},
   "outputs": [
    {
     "name": "stdout",
     "output_type": "stream",
     "text": [
      "female: Actual ~  37  and  35\n",
      "0    36.319232\n",
      "1    36.361889\n",
      "dtype: float64\n",
      "\n",
      "Male: Actual ~  39  and  38\n",
      "0    39.522490\n",
      "1    39.546865\n",
      "dtype: float64\n"
     ]
    }
   ],
   "source": [
    "# Predict boot_size given harness size, age, and sex\n",
    "print('female: Actual ~ ', df.loc[2].boot_size, ' and ', df.loc[5].boot_size)\n",
    "print(ols_fitted_model.predict({'harness_size': [52, 52],\n",
    "                         'age_years': [8.6,4.4],\n",
    "                         'sex': ['female', 'female']}))\n",
    "print()\n",
    "print('Male: Actual ~ ', df.loc[0].boot_size, ' and ', df.loc[1].boot_size)\n",
    "print(ols_fitted_model.predict({'harness_size': [58, 58],\n",
    "                         'age_years': [12,9.6],\n",
    "                         'sex': ['male', 'male']}))"
   ]
  },
  {
   "cell_type": "markdown",
   "id": "0ddb3cb2",
   "metadata": {},
   "source": [
    "Now that we've trained a model using available features, we can save this model to disk to prevent having to retrain the model for the next use"
   ]
  },
  {
   "cell_type": "markdown",
   "id": "8c2c107a",
   "metadata": {},
   "source": [
    "## Saving and using the Model"
   ]
  },
  {
   "cell_type": "code",
   "execution_count": 10,
   "id": "e1eb8d79",
   "metadata": {
    "scrolled": true
   },
   "outputs": [
    {
     "name": "stdout",
     "output_type": "stream",
     "text": [
      "Success - Model saved!\n"
     ]
    }
   ],
   "source": [
    "# Create a filename in a directory\n",
    "model_filename = './avalanche_dog_boot_model_ols.pkl'\n",
    "\n",
    "try:\n",
    "    # Using the joblib library, save the model\n",
    "    joblib.dump(ols_fitted_model, model_filename)\n",
    "    print('Success - Model saved!')\n",
    "except:\n",
    "    print('An error occurred')"
   ]
  },
  {
   "cell_type": "code",
   "execution_count": 11,
   "id": "33373005",
   "metadata": {
    "scrolled": false
   },
   "outputs": [
    {
     "data": {
      "text/plain": [
       "Intercept       2.511641\n",
       "sex[T.male]    -0.673165\n",
       "harness_size    0.651826\n",
       "age_years      -0.010156\n",
       "dtype: float64"
      ]
     },
     "execution_count": 11,
     "metadata": {},
     "output_type": "execute_result"
    }
   ],
   "source": [
    "# Load in the model\n",
    "ols_model = joblib.load(model_filename)\n",
    "ols_model.params"
   ]
  },
  {
   "cell_type": "code",
   "execution_count": 12,
   "id": "f727ce0b",
   "metadata": {
    "scrolled": true
   },
   "outputs": [
    {
     "name": "stdout",
     "output_type": "stream",
     "text": [
      "32.0\n"
     ]
    }
   ],
   "source": [
    "a = ols_model.predict({'harness_size': 45,\n",
    "                      'age_years': 3,\n",
    "                      'sex': 'female'}).round(0)\n",
    "for i in a:\n",
    "    print(i)"
   ]
  },
  {
   "cell_type": "code",
   "execution_count": 13,
   "id": "e3deabca",
   "metadata": {},
   "outputs": [
    {
     "name": "stdout",
     "output_type": "stream",
     "text": [
      "The boots you selected might be TOO SMALL for a dog as big as yours. We suggest going with 5\n"
     ]
    }
   ],
   "source": [
    "h = 5\n",
    "print(('The boots you selected might be TOO SMALL for a dog as big as yours. We suggest going ' \\\n",
    "                   f'with {h}'))"
   ]
  },
  {
   "cell_type": "code",
   "execution_count": 14,
   "id": "b8dde78c",
   "metadata": {},
   "outputs": [],
   "source": [
    "def size_checkout(selected_harness_size, selected_age_years, selected_sex, selected_boot_size):\n",
    "    ''' \n",
    "    Given a user's inputs about their dog, return a message based on whether the selected boot_size matches that predicted \n",
    "    by the model.\n",
    "    \n",
    "    selected_harness_size: The size of the harness the customer wants to buy\n",
    "    selected_age_years: The age of their dog\n",
    "    selected_sex: The sex of their dog\n",
    "    selected_boot_size: The size of the doggy boots the customer wants to buy\n",
    "    '''\n",
    "    \n",
    "    # Start by loading in the model\n",
    "    ols_model = joblib.load('./avalanche_dog_boot_model_ols.pkl')\n",
    "    \n",
    "    # Regress inputs on boot_size using OLS model\n",
    "    predicted_boot_size = ols_model.predict({'harness_size': selected_harness_size,\n",
    "                      'age_years': selected_age_years,\n",
    "                      'sex': selected_sex}).round(0)\n",
    "    \n",
    "    # Create list to append outputs incase of multiple inputs\n",
    "    res = []\n",
    "    \n",
    "    # Convert values to series which prevents int from not being subscriptable\n",
    "    selected_harness_size = pd.Series(selected_harness_size)\n",
    "    selected_age_years = pd.Series(selected_age_years)\n",
    "    selected_sex = pd.Series(selected_sex)\n",
    "    selected_boot_size = pd.Series(selected_boot_size)\n",
    "    \n",
    "    # Check if selected_boot_size matches the model's prediction and display message to user\n",
    "    for i in range(len(predicted_boot_size)):\n",
    "        if selected_boot_size[i] == int(predicted_boot_size[i]):\n",
    "            res.append(f'Great choice! We think these boots will fit well')\n",
    "        elif selected_boot_size[i] < int(predicted_boot_size[i]):\n",
    "            res.append('The boots you selected might be TOO SMALL for a dog as big as yours. We suggest going '\\\n",
    "                   f'with size: {int(predicted_boot_size[i])}')\n",
    "        elif selected_boot_size[i] > int(predicted_boot_size[i]):\n",
    "            res.append('The boots you selected might be TOO BIG for a dog as small as yours. We suggest going '\\\n",
    "                   f'with size: {int(predicted_boot_size[i])}')\n",
    "    return(res)"
   ]
  },
  {
   "cell_type": "code",
   "execution_count": 15,
   "id": "4e3e2b55",
   "metadata": {},
   "outputs": [
    {
     "data": {
      "text/html": [
       "<div>\n",
       "<style scoped>\n",
       "    .dataframe tbody tr th:only-of-type {\n",
       "        vertical-align: middle;\n",
       "    }\n",
       "\n",
       "    .dataframe tbody tr th {\n",
       "        vertical-align: top;\n",
       "    }\n",
       "\n",
       "    .dataframe thead th {\n",
       "        text-align: right;\n",
       "    }\n",
       "</style>\n",
       "<table border=\"1\" class=\"dataframe\">\n",
       "  <thead>\n",
       "    <tr style=\"text-align: right;\">\n",
       "      <th></th>\n",
       "      <th>boot_size</th>\n",
       "      <th>harness_size</th>\n",
       "      <th>sex</th>\n",
       "      <th>age_years</th>\n",
       "    </tr>\n",
       "  </thead>\n",
       "  <tbody>\n",
       "    <tr>\n",
       "      <th>0</th>\n",
       "      <td>39</td>\n",
       "      <td>58</td>\n",
       "      <td>male</td>\n",
       "      <td>12.0</td>\n",
       "    </tr>\n",
       "    <tr>\n",
       "      <th>1</th>\n",
       "      <td>38</td>\n",
       "      <td>58</td>\n",
       "      <td>male</td>\n",
       "      <td>9.6</td>\n",
       "    </tr>\n",
       "    <tr>\n",
       "      <th>2</th>\n",
       "      <td>37</td>\n",
       "      <td>52</td>\n",
       "      <td>female</td>\n",
       "      <td>8.6</td>\n",
       "    </tr>\n",
       "  </tbody>\n",
       "</table>\n",
       "</div>"
      ],
      "text/plain": [
       "   boot_size  harness_size     sex  age_years\n",
       "0         39            58    male       12.0\n",
       "1         38            58    male        9.6\n",
       "2         37            52  female        8.6"
      ]
     },
     "execution_count": 15,
     "metadata": {},
     "output_type": "execute_result"
    }
   ],
   "source": [
    "df.head(3)"
   ]
  },
  {
   "cell_type": "code",
   "execution_count": 16,
   "id": "9bc9f4c1",
   "metadata": {},
   "outputs": [
    {
     "data": {
      "text/plain": [
       "['Great choice! We think these boots will fit well']"
      ]
     },
     "execution_count": 16,
     "metadata": {},
     "output_type": "execute_result"
    }
   ],
   "source": [
    "# Test out the checkout function on integers\n",
    "size_checkout(selected_harness_size=58, \n",
    "              selected_age_years=12, \n",
    "              selected_sex='male', \n",
    "              selected_boot_size=40)"
   ]
  },
  {
   "cell_type": "code",
   "execution_count": 17,
   "id": "dc90af11",
   "metadata": {},
   "outputs": [
    {
     "data": {
      "text/plain": [
       "['Great choice! We think these boots will fit well']"
      ]
     },
     "execution_count": 17,
     "metadata": {},
     "output_type": "execute_result"
    }
   ],
   "source": [
    "# Test out the checkout function on a list with one value\n",
    "size_checkout(selected_harness_size=[58], \n",
    "              selected_age_years=[12], \n",
    "              selected_sex=['male'], \n",
    "              selected_boot_size=[40])"
   ]
  },
  {
   "cell_type": "code",
   "execution_count": 18,
   "id": "9e9893a9",
   "metadata": {
    "scrolled": true
   },
   "outputs": [
    {
     "data": {
      "text/plain": [
       "['Great choice! We think these boots will fit well',\n",
       " 'The boots you selected might be TOO BIG for a dog as small as yours. We suggest going with size: 36']"
      ]
     },
     "execution_count": 18,
     "metadata": {},
     "output_type": "execute_result"
    }
   ],
   "source": [
    "# Test out the checkout function on a list with multiple values\n",
    "size_checkout(selected_harness_size=[58,52], \n",
    "              selected_age_years=[12,8.6], \n",
    "              selected_sex=['male','female'], \n",
    "              selected_boot_size=[40,38])"
   ]
  }
 ],
 "metadata": {
  "kernelspec": {
   "display_name": "Python 3",
   "language": "python",
   "name": "python3"
  },
  "language_info": {
   "codemirror_mode": {
    "name": "ipython",
    "version": 3
   },
   "file_extension": ".py",
   "mimetype": "text/x-python",
   "name": "python",
   "nbconvert_exporter": "python",
   "pygments_lexer": "ipython3",
   "version": "3.8.8"
  }
 },
 "nbformat": 4,
 "nbformat_minor": 5
}
